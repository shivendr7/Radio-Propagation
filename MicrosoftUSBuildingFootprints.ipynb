{
  "nbformat": 4,
  "nbformat_minor": 0,
  "metadata": {
    "colab": {
      "name": "MicrosoftUSBuildingFootprints.ipynb",
      "provenance": [],
      "authorship_tag": "ABX9TyMI/iGZVmCTfEDPPEqaCWwv",
      "include_colab_link": true
    },
    "kernelspec": {
      "name": "python3",
      "display_name": "Python 3"
    },
    "language_info": {
      "name": "python"
    }
  },
  "cells": [
    {
      "cell_type": "markdown",
      "metadata": {
        "id": "view-in-github",
        "colab_type": "text"
      },
      "source": [
        "<a href=\"https://colab.research.google.com/github/shivendr7/Radio-Propagation/blob/main/MicrosoftUSBuildingFootprints.ipynb\" target=\"_parent\"><img src=\"https://colab.research.google.com/assets/colab-badge.svg\" alt=\"Open In Colab\"/></a>"
      ]
    },
    {
      "cell_type": "markdown",
      "metadata": {
        "id": "kvgrSny-gfzG"
      },
      "source": [
        "https://github.com/Microsoft/USBuildingFootprints"
      ]
    },
    {
      "cell_type": "markdown",
      "metadata": {
        "id": "plQfOlHPI-7b"
      },
      "source": [
        "https://www.arcgis.com/home/item.html?id=3b0b8cf27ffb49e2a2c8370f9806f267#overview"
      ]
    },
    {
      "cell_type": "code",
      "metadata": {
        "id": "hBLtuOFVe6Jl"
      },
      "source": [
        "from os import listdir\n",
        "from tensorflow.keras.utils import get_file\n",
        "url='https://usbuildingdata.blob.core.windows.net/usbuildings-v2/Indiana.geojson.zip'\n",
        "path_to_file=get_file('Indiana.geojson.zip', origin=url, extract=True) "
      ],
      "execution_count": 1,
      "outputs": []
    },
    {
      "cell_type": "code",
      "metadata": {
        "colab": {
          "base_uri": "https://localhost:8080/",
          "height": 35
        },
        "id": "L1ZYGyv1fLLS",
        "outputId": "27f5a844-8fd1-47bf-fe39-43cae82ecff3"
      },
      "source": [
        "path_to_file"
      ],
      "execution_count": 22,
      "outputs": [
        {
          "output_type": "execute_result",
          "data": {
            "application/vnd.google.colaboratory.intrinsic+json": {
              "type": "string"
            },
            "text/plain": [
              "'/root/.keras/datasets/Indiana.geojson.zip'"
            ]
          },
          "metadata": {
            "tags": []
          },
          "execution_count": 22
        }
      ]
    },
    {
      "cell_type": "code",
      "metadata": {
        "colab": {
          "base_uri": "https://localhost:8080/"
        },
        "id": "wFJovdF0fOdj",
        "outputId": "c51e77dd-2d3a-4878-c938-8fcf243a9c20"
      },
      "source": [
        "!ls /root/.keras/datasets/"
      ],
      "execution_count": 23,
      "outputs": [
        {
          "output_type": "stream",
          "text": [
            "FeatureServer  Indiana.geojson\tIndiana.geojson.zip\n"
          ],
          "name": "stdout"
        }
      ]
    },
    {
      "cell_type": "code",
      "metadata": {
        "colab": {
          "base_uri": "https://localhost:8080/"
        },
        "id": "7HCjxYXTjh2Y",
        "outputId": "a09dd657-b7dd-400d-8ecc-3eed29ce27ed"
      },
      "source": [
        "!ls /root/.keras/datasets/Indiana.geojson"
      ],
      "execution_count": 24,
      "outputs": [
        {
          "output_type": "stream",
          "text": [
            "/root/.keras/datasets/Indiana.geojson\n"
          ],
          "name": "stdout"
        }
      ]
    },
    {
      "cell_type": "code",
      "metadata": {
        "colab": {
          "base_uri": "https://localhost:8080/"
        },
        "id": "UzvJoBVCj51f",
        "outputId": "41780798-85c0-41fc-9036-cb184464c4dc"
      },
      "source": [
        "#!pip install geojson"
      ],
      "execution_count": 25,
      "outputs": [
        {
          "output_type": "stream",
          "text": [
            "Requirement already satisfied: geojson in /usr/local/lib/python3.7/dist-packages (2.5.0)\n"
          ],
          "name": "stdout"
        }
      ]
    },
    {
      "cell_type": "code",
      "metadata": {
        "id": "_wGrSiEDj1oh"
      },
      "source": [
        "\"\"\"\n",
        "import geojson\n",
        "with open('/root/.keras/datasets/Indiana.geojson') as f:\n",
        "    gj = geojson.load(f)\n",
        "features = gj['features'][0]\n",
        "\"\"\""
      ],
      "execution_count": null,
      "outputs": []
    },
    {
      "cell_type": "code",
      "metadata": {
        "id": "Qlx6cBFqk5uC"
      },
      "source": [
        "#gj['features']"
      ],
      "execution_count": null,
      "outputs": []
    },
    {
      "cell_type": "code",
      "metadata": {
        "id": "UyNReCKZIRKB"
      },
      "source": [
        "!pip install geopandas"
      ],
      "execution_count": null,
      "outputs": []
    },
    {
      "cell_type": "code",
      "metadata": {
        "colab": {
          "base_uri": "https://localhost:8080/"
        },
        "id": "DXbo8VXdFUvt",
        "outputId": "21167bff-e1e7-47fd-bc7d-e5c31483d6ea"
      },
      "source": [
        "import geopandas as gpd\n",
        "earthquake = gpd.read_file(path_to_file[:-4])\n",
        "#print(earthquake.head())"
      ],
      "execution_count": 3,
      "outputs": [
        {
          "output_type": "stream",
          "text": [
            "   release  ...                                           geometry\n",
            "0        2  ...  POLYGON ((-84.78587 38.85850, -84.78586 38.858...\n",
            "1        2  ...  POLYGON ((-84.79681 38.86054, -84.79656 38.860...\n",
            "2        2  ...  POLYGON ((-84.79878 40.74762, -84.79864 40.747...\n",
            "3        2  ...  POLYGON ((-84.79920 40.74707, -84.79918 40.746...\n",
            "4        2  ...  POLYGON ((-84.79521 38.85968, -84.79529 38.859...\n",
            "\n",
            "[5 rows x 3 columns]\n"
          ],
          "name": "stdout"
        }
      ]
    },
    {
      "cell_type": "code",
      "metadata": {
        "colab": {
          "base_uri": "https://localhost:8080/",
          "height": 417
        },
        "id": "IfNfKly6JVE1",
        "outputId": "f9b499d7-a5c5-4a11-ad13-82356f77a461"
      },
      "source": [
        "df=earthquake\n",
        "df"
      ],
      "execution_count": 4,
      "outputs": [
        {
          "output_type": "execute_result",
          "data": {
            "text/html": [
              "<div>\n",
              "<style scoped>\n",
              "    .dataframe tbody tr th:only-of-type {\n",
              "        vertical-align: middle;\n",
              "    }\n",
              "\n",
              "    .dataframe tbody tr th {\n",
              "        vertical-align: top;\n",
              "    }\n",
              "\n",
              "    .dataframe thead th {\n",
              "        text-align: right;\n",
              "    }\n",
              "</style>\n",
              "<table border=\"1\" class=\"dataframe\">\n",
              "  <thead>\n",
              "    <tr style=\"text-align: right;\">\n",
              "      <th></th>\n",
              "      <th>release</th>\n",
              "      <th>capture_dates_range</th>\n",
              "      <th>geometry</th>\n",
              "    </tr>\n",
              "  </thead>\n",
              "  <tbody>\n",
              "    <tr>\n",
              "      <th>0</th>\n",
              "      <td>2</td>\n",
              "      <td>6/27/2019-9/22/2019</td>\n",
              "      <td>POLYGON ((-84.78587 38.85850, -84.78586 38.858...</td>\n",
              "    </tr>\n",
              "    <tr>\n",
              "      <th>1</th>\n",
              "      <td>2</td>\n",
              "      <td>6/27/2019-9/22/2019</td>\n",
              "      <td>POLYGON ((-84.79681 38.86054, -84.79656 38.860...</td>\n",
              "    </tr>\n",
              "    <tr>\n",
              "      <th>2</th>\n",
              "      <td>2</td>\n",
              "      <td>10/14/2019-10/23/2019</td>\n",
              "      <td>POLYGON ((-84.79878 40.74762, -84.79864 40.747...</td>\n",
              "    </tr>\n",
              "    <tr>\n",
              "      <th>3</th>\n",
              "      <td>2</td>\n",
              "      <td>10/14/2019-10/23/2019</td>\n",
              "      <td>POLYGON ((-84.79920 40.74707, -84.79918 40.746...</td>\n",
              "    </tr>\n",
              "    <tr>\n",
              "      <th>4</th>\n",
              "      <td>2</td>\n",
              "      <td>6/27/2019-9/22/2019</td>\n",
              "      <td>POLYGON ((-84.79521 38.85968, -84.79529 38.859...</td>\n",
              "    </tr>\n",
              "    <tr>\n",
              "      <th>...</th>\n",
              "      <td>...</td>\n",
              "      <td>...</td>\n",
              "      <td>...</td>\n",
              "    </tr>\n",
              "    <tr>\n",
              "      <th>3379643</th>\n",
              "      <td>2</td>\n",
              "      <td>6/29/2019-11/8/2019</td>\n",
              "      <td>POLYGON ((-88.00489 37.85262, -88.00496 37.852...</td>\n",
              "    </tr>\n",
              "    <tr>\n",
              "      <th>3379644</th>\n",
              "      <td>2</td>\n",
              "      <td>2/11/2012-11/8/2019</td>\n",
              "      <td>POLYGON ((-88.04306 38.03644, -88.04306 38.036...</td>\n",
              "    </tr>\n",
              "    <tr>\n",
              "      <th>3379645</th>\n",
              "      <td>1</td>\n",
              "      <td></td>\n",
              "      <td>POLYGON ((-88.04600 38.03837, -88.04600 38.038...</td>\n",
              "    </tr>\n",
              "    <tr>\n",
              "      <th>3379646</th>\n",
              "      <td>1</td>\n",
              "      <td></td>\n",
              "      <td>POLYGON ((-88.04675 38.03659, -88.04675 38.036...</td>\n",
              "    </tr>\n",
              "    <tr>\n",
              "      <th>3379647</th>\n",
              "      <td>1</td>\n",
              "      <td></td>\n",
              "      <td>POLYGON ((-88.06976 37.92683, -88.06985 37.926...</td>\n",
              "    </tr>\n",
              "  </tbody>\n",
              "</table>\n",
              "<p>3379648 rows × 3 columns</p>\n",
              "</div>"
            ],
            "text/plain": [
              "         release  ...                                           geometry\n",
              "0              2  ...  POLYGON ((-84.78587 38.85850, -84.78586 38.858...\n",
              "1              2  ...  POLYGON ((-84.79681 38.86054, -84.79656 38.860...\n",
              "2              2  ...  POLYGON ((-84.79878 40.74762, -84.79864 40.747...\n",
              "3              2  ...  POLYGON ((-84.79920 40.74707, -84.79918 40.746...\n",
              "4              2  ...  POLYGON ((-84.79521 38.85968, -84.79529 38.859...\n",
              "...          ...  ...                                                ...\n",
              "3379643        2  ...  POLYGON ((-88.00489 37.85262, -88.00496 37.852...\n",
              "3379644        2  ...  POLYGON ((-88.04306 38.03644, -88.04306 38.036...\n",
              "3379645        1  ...  POLYGON ((-88.04600 38.03837, -88.04600 38.038...\n",
              "3379646        1  ...  POLYGON ((-88.04675 38.03659, -88.04675 38.036...\n",
              "3379647        1  ...  POLYGON ((-88.06976 37.92683, -88.06985 37.926...\n",
              "\n",
              "[3379648 rows x 3 columns]"
            ]
          },
          "metadata": {
            "tags": []
          },
          "execution_count": 4
        }
      ]
    },
    {
      "cell_type": "code",
      "metadata": {
        "id": "bFSXN5xCKMi0"
      },
      "source": [
        "#https://usbuildingdata.blob.core.windows.net/usbuildings-v2/California.geojson.zip\n",
        "from os import listdir\n",
        "from tensorflow.keras.utils import get_file\n",
        "url='https://usbuildingdata.blob.core.windows.net/usbuildings-v2/California.geojson.zip'\n",
        "path_to_file=get_file('Indiana.geojson.zip', origin=url, extract=True) "
      ],
      "execution_count": 6,
      "outputs": []
    },
    {
      "cell_type": "code",
      "metadata": {
        "colab": {
          "base_uri": "https://localhost:8080/",
          "height": 417
        },
        "id": "KL-_VyK0KehD",
        "outputId": "6117c6d8-6177-4ce9-fd48-b568783cec87"
      },
      "source": [
        "df=gpd.read_file(path_to_file[:-4])\n",
        "df"
      ],
      "execution_count": 7,
      "outputs": [
        {
          "output_type": "execute_result",
          "data": {
            "text/html": [
              "<div>\n",
              "<style scoped>\n",
              "    .dataframe tbody tr th:only-of-type {\n",
              "        vertical-align: middle;\n",
              "    }\n",
              "\n",
              "    .dataframe tbody tr th {\n",
              "        vertical-align: top;\n",
              "    }\n",
              "\n",
              "    .dataframe thead th {\n",
              "        text-align: right;\n",
              "    }\n",
              "</style>\n",
              "<table border=\"1\" class=\"dataframe\">\n",
              "  <thead>\n",
              "    <tr style=\"text-align: right;\">\n",
              "      <th></th>\n",
              "      <th>release</th>\n",
              "      <th>capture_dates_range</th>\n",
              "      <th>geometry</th>\n",
              "    </tr>\n",
              "  </thead>\n",
              "  <tbody>\n",
              "    <tr>\n",
              "      <th>0</th>\n",
              "      <td>2</td>\n",
              "      <td>6/27/2019-9/22/2019</td>\n",
              "      <td>POLYGON ((-84.78587 38.85850, -84.78586 38.858...</td>\n",
              "    </tr>\n",
              "    <tr>\n",
              "      <th>1</th>\n",
              "      <td>2</td>\n",
              "      <td>6/27/2019-9/22/2019</td>\n",
              "      <td>POLYGON ((-84.79681 38.86054, -84.79656 38.860...</td>\n",
              "    </tr>\n",
              "    <tr>\n",
              "      <th>2</th>\n",
              "      <td>2</td>\n",
              "      <td>10/14/2019-10/23/2019</td>\n",
              "      <td>POLYGON ((-84.79878 40.74762, -84.79864 40.747...</td>\n",
              "    </tr>\n",
              "    <tr>\n",
              "      <th>3</th>\n",
              "      <td>2</td>\n",
              "      <td>10/14/2019-10/23/2019</td>\n",
              "      <td>POLYGON ((-84.79920 40.74707, -84.79918 40.746...</td>\n",
              "    </tr>\n",
              "    <tr>\n",
              "      <th>4</th>\n",
              "      <td>2</td>\n",
              "      <td>6/27/2019-9/22/2019</td>\n",
              "      <td>POLYGON ((-84.79521 38.85968, -84.79529 38.859...</td>\n",
              "    </tr>\n",
              "    <tr>\n",
              "      <th>...</th>\n",
              "      <td>...</td>\n",
              "      <td>...</td>\n",
              "      <td>...</td>\n",
              "    </tr>\n",
              "    <tr>\n",
              "      <th>3379643</th>\n",
              "      <td>2</td>\n",
              "      <td>6/29/2019-11/8/2019</td>\n",
              "      <td>POLYGON ((-88.00489 37.85262, -88.00496 37.852...</td>\n",
              "    </tr>\n",
              "    <tr>\n",
              "      <th>3379644</th>\n",
              "      <td>2</td>\n",
              "      <td>2/11/2012-11/8/2019</td>\n",
              "      <td>POLYGON ((-88.04306 38.03644, -88.04306 38.036...</td>\n",
              "    </tr>\n",
              "    <tr>\n",
              "      <th>3379645</th>\n",
              "      <td>1</td>\n",
              "      <td></td>\n",
              "      <td>POLYGON ((-88.04600 38.03837, -88.04600 38.038...</td>\n",
              "    </tr>\n",
              "    <tr>\n",
              "      <th>3379646</th>\n",
              "      <td>1</td>\n",
              "      <td></td>\n",
              "      <td>POLYGON ((-88.04675 38.03659, -88.04675 38.036...</td>\n",
              "    </tr>\n",
              "    <tr>\n",
              "      <th>3379647</th>\n",
              "      <td>1</td>\n",
              "      <td></td>\n",
              "      <td>POLYGON ((-88.06976 37.92683, -88.06985 37.926...</td>\n",
              "    </tr>\n",
              "  </tbody>\n",
              "</table>\n",
              "<p>3379648 rows × 3 columns</p>\n",
              "</div>"
            ],
            "text/plain": [
              "         release  ...                                           geometry\n",
              "0              2  ...  POLYGON ((-84.78587 38.85850, -84.78586 38.858...\n",
              "1              2  ...  POLYGON ((-84.79681 38.86054, -84.79656 38.860...\n",
              "2              2  ...  POLYGON ((-84.79878 40.74762, -84.79864 40.747...\n",
              "3              2  ...  POLYGON ((-84.79920 40.74707, -84.79918 40.746...\n",
              "4              2  ...  POLYGON ((-84.79521 38.85968, -84.79529 38.859...\n",
              "...          ...  ...                                                ...\n",
              "3379643        2  ...  POLYGON ((-88.00489 37.85262, -88.00496 37.852...\n",
              "3379644        2  ...  POLYGON ((-88.04306 38.03644, -88.04306 38.036...\n",
              "3379645        1  ...  POLYGON ((-88.04600 38.03837, -88.04600 38.038...\n",
              "3379646        1  ...  POLYGON ((-88.04675 38.03659, -88.04675 38.036...\n",
              "3379647        1  ...  POLYGON ((-88.06976 37.92683, -88.06985 37.926...\n",
              "\n",
              "[3379648 rows x 3 columns]"
            ]
          },
          "metadata": {
            "tags": []
          },
          "execution_count": 7
        }
      ]
    },
    {
      "cell_type": "code",
      "metadata": {
        "colab": {
          "base_uri": "https://localhost:8080/"
        },
        "id": "Qbx_ySfJLgIR",
        "outputId": "28ef8a8a-92b5-4934-928a-9b025618e8cf"
      },
      "source": [
        "type(df)"
      ],
      "execution_count": 8,
      "outputs": [
        {
          "output_type": "execute_result",
          "data": {
            "text/plain": [
              "geopandas.geodataframe.GeoDataFrame"
            ]
          },
          "metadata": {
            "tags": []
          },
          "execution_count": 8
        }
      ]
    },
    {
      "cell_type": "code",
      "metadata": {
        "id": "iqKy7awML5DF"
      },
      "source": [
        "!pip install osmnx"
      ],
      "execution_count": null,
      "outputs": []
    },
    {
      "cell_type": "code",
      "metadata": {
        "colab": {
          "base_uri": "https://localhost:8080/",
          "height": 35
        },
        "id": "5WDacqznL8bH",
        "outputId": "8ba93194-c40c-4455-8a4a-ad0097d27d6e"
      },
      "source": [
        "import osmnx as ox\n",
        "from IPython.display import Image\n",
        "\n",
        "%matplotlib inline\n",
        "ox.config(log_console=True)\n",
        "ox.__version__"
      ],
      "execution_count": 11,
      "outputs": [
        {
          "output_type": "execute_result",
          "data": {
            "application/vnd.google.colaboratory.intrinsic+json": {
              "type": "string"
            },
            "text/plain": [
              "'1.1.1'"
            ]
          },
          "metadata": {
            "tags": []
          },
          "execution_count": 11
        }
      ]
    },
    {
      "cell_type": "code",
      "metadata": {
        "id": "tRSyjsX8MJr1"
      },
      "source": [
        "# configure the inline image display\n",
        "img_folder = \"images\"\n",
        "extension = \"png\"\n",
        "size = 240"
      ],
      "execution_count": 12,
      "outputs": []
    },
    {
      "cell_type": "code",
      "metadata": {
        "id": "5btv6vTPLu5C"
      },
      "source": [
        "gdf_proj = ox.project_gdf(df)\n",
        "fp = f\"./{img_folder}/piedmont_bldgs.{extension}\"\n",
        "fig, ax = ox.plot_footprints(gdf_proj, filepath=fp, dpi=400, save=True, show=False, close=True)\n",
        "Image(fp, height=size, width=size)"
      ],
      "execution_count": null,
      "outputs": []
    }
  ]
}