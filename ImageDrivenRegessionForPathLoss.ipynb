{
  "nbformat": 4,
  "nbformat_minor": 0,
  "metadata": {
    "colab": {
      "name": "ImageDrivenRegessionForPathLoss.ipynb",
      "provenance": [],
      "authorship_tag": "ABX9TyMKbFMGNpjEFhQY/KO5cdkz",
      "include_colab_link": true
    },
    "kernelspec": {
      "name": "python3",
      "display_name": "Python 3"
    },
    "language_info": {
      "name": "python"
    }
  },
  "cells": [
    {
      "cell_type": "markdown",
      "metadata": {
        "id": "view-in-github",
        "colab_type": "text"
      },
      "source": [
        "<a href=\"https://colab.research.google.com/github/shivendr7/Radio-Propagation/blob/main/ImageDrivenRegessionForPathLoss.ipynb\" target=\"_parent\"><img src=\"https://colab.research.google.com/assets/colab-badge.svg\" alt=\"Open In Colab\"/></a>"
      ]
    },
    {
      "cell_type": "code",
      "metadata": {
        "id": "wwjMAGMuUZG8"
      },
      "source": [
        "import bz2"
      ],
      "execution_count": 20,
      "outputs": []
    },
    {
      "cell_type": "code",
      "metadata": {
        "id": "cuLZRJyp1E0j"
      },
      "source": [
        "from os import listdir\n",
        "from tensorflow.keras.utils import get_file\n",
        "url='https://planet.osm.org/planet/changesets-latest.osm.bz2'\n",
        "path_to_file=get_file('changesets-latest.osm.bz2', origin=url, extract=False)   #not extracted"
      ],
      "execution_count": 21,
      "outputs": []
    },
    {
      "cell_type": "code",
      "metadata": {
        "colab": {
          "base_uri": "https://localhost:8080/",
          "height": 35
        },
        "id": "shzzxy1DU7Pp",
        "outputId": "311e759b-55bf-449b-9911-29dc1935571f"
      },
      "source": [
        "path_to_file"
      ],
      "execution_count": 22,
      "outputs": [
        {
          "output_type": "execute_result",
          "data": {
            "application/vnd.google.colaboratory.intrinsic+json": {
              "type": "string"
            },
            "text/plain": [
              "'/root/.keras/datasets/changesets-latest.osm.bz2'"
            ]
          },
          "metadata": {
            "tags": []
          },
          "execution_count": 22
        }
      ]
    },
    {
      "cell_type": "code",
      "metadata": {
        "colab": {
          "base_uri": "https://localhost:8080/"
        },
        "id": "vcghDkVuU9SC",
        "outputId": "66d9852b-8bf8-4231-8972-e8653f8734f3"
      },
      "source": [
        "!ls /root/.keras/datasets"
      ],
      "execution_count": 24,
      "outputs": [
        {
          "output_type": "stream",
          "text": [
            "3DShapeNetsCode.zip  changesets-latest.osm.bz2\n"
          ],
          "name": "stdout"
        }
      ]
    },
    {
      "cell_type": "code",
      "metadata": {
        "id": "qzAcanqrVRXh"
      },
      "source": [
        "zipfile = bz2.BZ2File('/root/.keras/datasets/changesets-latest.osm.bz2') # open the file\n",
        "data = zipfile.read() # get the decompressed data\n",
        "newfilepath = '/root/.keras/datasets/changesets-latest.osm' # assuming the filepath ends with .bz2\n",
        "open(newfilepath, 'wb').write(data) # write a uncompressed file"
      ],
      "execution_count": null,
      "outputs": []
    },
    {
      "cell_type": "code",
      "metadata": {
        "id": "LMV-fYmmnbOM"
      },
      "source": [
        "from os import listdir\n",
        "from tensorflow.keras.utils import get_file\n",
        "url='https://planet.osm.ch/switzerland-garmin.zip'\n",
        "path_to_file=get_file('switzerland-garmin.zip', origin=url, extract=True)   #not extracted"
      ],
      "execution_count": 6,
      "outputs": []
    },
    {
      "cell_type": "code",
      "metadata": {
        "colab": {
          "base_uri": "https://localhost:8080/"
        },
        "id": "aeNcns1en79T",
        "outputId": "f183d5b9-71b1-4e0f-f41b-64a99cca0721"
      },
      "source": [
        "!ls /root/.keras/datasets/"
      ],
      "execution_count": 7,
      "outputs": [
        {
          "output_type": "stream",
          "text": [
            "63240001.img  63240019.img  osmmap.tdb\t      ovm_63240018.img\n",
            "63240002.img  63240020.img  ovm_63240001.img  ovm_63240019.img\n",
            "63240003.img  63240021.img  ovm_63240002.img  ovm_63240020.img\n",
            "63240004.img  63240022.img  ovm_63240003.img  ovm_63240021.img\n",
            "63240005.img  63240023.img  ovm_63240004.img  ovm_63240022.img\n",
            "63240006.img  63240024.img  ovm_63240005.img  ovm_63240023.img\n",
            "63240007.img  63240025.img  ovm_63240006.img  ovm_63240024.img\n",
            "63240008.img  63240026.img  ovm_63240007.img  ovm_63240025.img\n",
            "63240009.img  63240027.img  ovm_63240008.img  ovm_63240026.img\n",
            "63240010.img  63240028.img  ovm_63240009.img  ovm_63240027.img\n",
            "63240011.img  63240029.img  ovm_63240010.img  ovm_63240028.img\n",
            "63240012.img  63240030.img  ovm_63240011.img  ovm_63240029.img\n",
            "63240013.img  63240031.img  ovm_63240012.img  ovm_63240030.img\n",
            "63240014.img  63240032.img  ovm_63240013.img  ovm_63240031.img\n",
            "63240015.img  63240033.img  ovm_63240014.img  ovm_63240032.img\n",
            "63240016.img  63240034.img  ovm_63240015.img  ovm_63240033.img\n",
            "63240017.img  gmapsupp.img  ovm_63240016.img  ovm_63240034.img\n",
            "63240018.img  osmmap.img    ovm_63240017.img  switzerland-garmin.zip\n"
          ],
          "name": "stdout"
        }
      ]
    },
    {
      "cell_type": "code",
      "metadata": {
        "id": "h-59-BQqoNMm"
      },
      "source": [
        "fiLe=listdir('/root/.keras/datasets')\n",
        "path='/root/.keras/datasets/'"
      ],
      "execution_count": 12,
      "outputs": []
    },
    {
      "cell_type": "code",
      "metadata": {
        "colab": {
          "base_uri": "https://localhost:8080/"
        },
        "id": "DE2KqU1DqrRi",
        "outputId": "b65eb70b-c8b5-477b-b44a-0a7f46631ef4"
      },
      "source": [
        "with open(path+fiLe[2], mode='r') as f:\n",
        "  print(f)"
      ],
      "execution_count": 15,
      "outputs": [
        {
          "output_type": "stream",
          "text": [
            "<_io.TextIOWrapper name='/root/.keras/datasets/63240008.img' mode='r' encoding='UTF-8'>\n"
          ],
          "name": "stdout"
        }
      ]
    },
    {
      "cell_type": "code",
      "metadata": {
        "colab": {
          "base_uri": "https://localhost:8080/"
        },
        "id": "VKWso-3VrT0G",
        "outputId": "578f2bfd-3ae7-4cec-bce2-789d3e762370"
      },
      "source": [
        "from os import listdir\n",
        "from tensorflow.keras.utils import get_file\n",
        "url='https://planet.osm.ch/switzerland-padded.osm.pbf'\n",
        "path_to_file=get_file('switzerland-padded.osm.pbf', origin=url, extract=True)   #not extracted"
      ],
      "execution_count": 16,
      "outputs": [
        {
          "output_type": "stream",
          "text": [
            "Downloading data from https://planet.osm.ch/switzerland-padded.osm.pbf\n",
            "508985344/508979192 [==============================] - 48s 0us/step\n"
          ],
          "name": "stdout"
        }
      ]
    },
    {
      "cell_type": "code",
      "metadata": {
        "colab": {
          "base_uri": "https://localhost:8080/",
          "height": 35
        },
        "id": "QqqBSfeFuDmO",
        "outputId": "4d61ac27-4f7a-40ee-d909-d9951cff67dd"
      },
      "source": [
        "path_to_file"
      ],
      "execution_count": 17,
      "outputs": [
        {
          "output_type": "execute_result",
          "data": {
            "application/vnd.google.colaboratory.intrinsic+json": {
              "type": "string"
            },
            "text/plain": [
              "'/root/.keras/datasets/switzerland-padded.osm.pbf'"
            ]
          },
          "metadata": {
            "tags": []
          },
          "execution_count": 17
        }
      ]
    },
    {
      "cell_type": "code",
      "metadata": {
        "colab": {
          "base_uri": "https://localhost:8080/"
        },
        "id": "QUFaK9PHuFUN",
        "outputId": "f1b453e8-c056-4f6f-db85-5319ec1950d2"
      },
      "source": [
        "!ls /root/.keras/datasets/"
      ],
      "execution_count": 18,
      "outputs": [
        {
          "output_type": "stream",
          "text": [
            "63240001.img  63240020.img\tovm_63240002.img  ovm_63240021.img\n",
            "63240002.img  63240021.img\tovm_63240003.img  ovm_63240022.img\n",
            "63240003.img  63240022.img\tovm_63240004.img  ovm_63240023.img\n",
            "63240004.img  63240023.img\tovm_63240005.img  ovm_63240024.img\n",
            "63240005.img  63240024.img\tovm_63240006.img  ovm_63240025.img\n",
            "63240006.img  63240025.img\tovm_63240007.img  ovm_63240026.img\n",
            "63240007.img  63240026.img\tovm_63240008.img  ovm_63240027.img\n",
            "63240008.img  63240027.img\tovm_63240009.img  ovm_63240028.img\n",
            "63240009.img  63240028.img\tovm_63240010.img  ovm_63240029.img\n",
            "63240010.img  63240029.img\tovm_63240011.img  ovm_63240030.img\n",
            "63240011.img  63240030.img\tovm_63240012.img  ovm_63240031.img\n",
            "63240012.img  63240031.img\tovm_63240013.img  ovm_63240032.img\n",
            "63240013.img  63240032.img\tovm_63240014.img  ovm_63240033.img\n",
            "63240014.img  63240033.img\tovm_63240015.img  ovm_63240034.img\n",
            "63240015.img  63240034.img\tovm_63240016.img  switzerland-garmin.zip\n",
            "63240016.img  gmapsupp.img\tovm_63240017.img  switzerland-padded.osm.pbf\n",
            "63240017.img  osmmap.img\tovm_63240018.img\n",
            "63240018.img  osmmap.tdb\tovm_63240019.img\n",
            "63240019.img  ovm_63240001.img\tovm_63240020.img\n"
          ],
          "name": "stdout"
        }
      ]
    },
    {
      "cell_type": "code",
      "metadata": {
        "colab": {
          "base_uri": "https://localhost:8080/",
          "height": 296
        },
        "id": "KJm2FcyTuJJg",
        "outputId": "a88ef079-88e1-4f9b-a215-0354b3c8ce29"
      },
      "source": [
        ""
      ],
      "execution_count": 19,
      "outputs": [
        {
          "output_type": "error",
          "ename": "ModuleNotFoundError",
          "evalue": "ignored",
          "traceback": [
            "\u001b[0;31m---------------------------------------------------------------------------\u001b[0m",
            "\u001b[0;31mModuleNotFoundError\u001b[0m                       Traceback (most recent call last)",
            "\u001b[0;32m<ipython-input-19-1301248c852d>\u001b[0m in \u001b[0;36m<module>\u001b[0;34m()\u001b[0m\n\u001b[0;32m----> 1\u001b[0;31m \u001b[0;32mimport\u001b[0m \u001b[0mpbf\u001b[0m\u001b[0;34m\u001b[0m\u001b[0;34m\u001b[0m\u001b[0m\n\u001b[0m",
            "\u001b[0;31mModuleNotFoundError\u001b[0m: No module named 'pbf'",
            "",
            "\u001b[0;31m---------------------------------------------------------------------------\u001b[0;32m\nNOTE: If your import is failing due to a missing package, you can\nmanually install dependencies using either !pip or !apt.\n\nTo view examples of installing some common dependencies, click the\n\"Open Examples\" button below.\n\u001b[0;31m---------------------------------------------------------------------------\u001b[0m\n"
          ]
        }
      ]
    },
    {
      "cell_type": "markdown",
      "metadata": {
        "id": "zwK06v3VuysK"
      },
      "source": [
        "https://towardsdatascience.com/retrieving-openstreetmap-data-in-python-1777a4be45bb"
      ]
    }
  ]
}